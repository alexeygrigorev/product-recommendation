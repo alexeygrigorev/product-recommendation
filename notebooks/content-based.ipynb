{
 "cells": [
  {
   "cell_type": "code",
   "execution_count": 1,
   "id": "6144c75d",
   "metadata": {},
   "outputs": [],
   "source": [
    "from pathlib import Path\n",
    "\n",
    "import pandas as pd\n",
    "import numpy as np"
   ]
  },
  {
   "cell_type": "markdown",
   "id": "d33880d8",
   "metadata": {},
   "source": [
    "## Read & prepare data"
   ]
  },
  {
   "cell_type": "code",
   "execution_count": 2,
   "id": "54a18f24",
   "metadata": {},
   "outputs": [],
   "source": [
    "data = Path('../data')\n",
    "\n",
    "df_sales = pd.read_csv(data / 'sales.csv')\n",
    "df_orders = pd.read_csv(data / 'orders.csv')\n",
    "df_customers = pd.read_csv(data / 'customers.csv')\n",
    "\n",
    "df_products = pd.read_csv(data / 'products.csv')\n",
    "df_products.columns = df_products.columns.str.lower()\n",
    "\n",
    "df_sales = df_sales.merge(df_orders[['order_id', 'customer_id']])"
   ]
  },
  {
   "cell_type": "code",
   "execution_count": 3,
   "id": "40336bed",
   "metadata": {},
   "outputs": [],
   "source": [
    "df_orders = df_orders.set_index('order_id')"
   ]
  },
  {
   "cell_type": "markdown",
   "id": "a17d60c9",
   "metadata": {},
   "source": [
    "\n",
    "## Validation\n",
    "\n",
    "Let's set aside some data for testing "
   ]
  },
  {
   "cell_type": "code",
   "execution_count": 4,
   "id": "bac4d73f",
   "metadata": {},
   "outputs": [],
   "source": [
    "df_train = df_sales[df_sales.order_id <= 900]\n",
    "df_val = df_sales[df_sales.order_id > 900]\n",
    "\n",
    "val_ground_truth = df_val.groupby('order_id').product_id.apply(set)"
   ]
  },
  {
   "cell_type": "markdown",
   "id": "5c3361bc",
   "metadata": {},
   "source": [
    "We need to have a good baseline. Let's use the most frequest items\n",
    "\n",
    "We will have the following recommendation scenario: we suggest 10 products and see how many\n",
    "of them the user will click on.\n",
    "\n",
    "We'll use a simple evaluation technique: we'll calculate how many suggested items the user actually bought. \n",
    "\n",
    "It's called \"Average presicion\" ([link](https://sdsawtelle.github.io/blog/output/mean-average-precision-MAP-for-recommender-systems.html))"
   ]
  },
  {
   "cell_type": "code",
   "execution_count": 5,
   "id": "4f3b4661",
   "metadata": {},
   "outputs": [
    {
     "data": {
      "text/plain": [
       "array([ 740,  579,   78,  843, 1188,  968, 1177, 1038,  182,  757],\n",
       "      dtype=int64)"
      ]
     },
     "execution_count": 5,
     "metadata": {},
     "output_type": "execute_result"
    }
   ],
   "source": [
    "n_rec = 10\n",
    "freq = df_train.product_id.value_counts().iloc[:n_rec].index.values\n",
    "freq"
   ]
  },
  {
   "cell_type": "code",
   "execution_count": 6,
   "id": "566b435c",
   "metadata": {},
   "outputs": [],
   "source": [
    "def average_precision(recommendations, ground_truth):\n",
    "    res = 0\n",
    "\n",
    "    n_rows, n_rec = recommendations.shape\n",
    "    assert n_rows == len(ground_truth)\n",
    "\n",
    "    for i, gt in enumerate(ground_truth):\n",
    "        cnt = 0\n",
    "        for item_id in recommendations[i]:\n",
    "            if item_id in gt:\n",
    "                cnt = cnt + 1\n",
    "        precision = cnt / n_rec\n",
    "        res = res + precision\n",
    "\n",
    "    res = res / n_val\n",
    "    return res"
   ]
  },
  {
   "cell_type": "code",
   "execution_count": 7,
   "id": "46e62266",
   "metadata": {},
   "outputs": [
    {
     "data": {
      "text/plain": [
       "array([[ 740,  579,   78,  843, 1188,  968, 1177, 1038,  182,  757],\n",
       "       [ 740,  579,   78,  843, 1188,  968, 1177, 1038,  182,  757],\n",
       "       [ 740,  579,   78,  843, 1188,  968, 1177, 1038,  182,  757],\n",
       "       [ 740,  579,   78,  843, 1188,  968, 1177, 1038,  182,  757],\n",
       "       [ 740,  579,   78,  843, 1188,  968, 1177, 1038,  182,  757],\n",
       "       [ 740,  579,   78,  843, 1188,  968, 1177, 1038,  182,  757],\n",
       "       [ 740,  579,   78,  843, 1188,  968, 1177, 1038,  182,  757],\n",
       "       [ 740,  579,   78,  843, 1188,  968, 1177, 1038,  182,  757],\n",
       "       [ 740,  579,   78,  843, 1188,  968, 1177, 1038,  182,  757],\n",
       "       [ 740,  579,   78,  843, 1188,  968, 1177, 1038,  182,  757]],\n",
       "      dtype=int64)"
      ]
     },
     "execution_count": 7,
     "metadata": {},
     "output_type": "execute_result"
    }
   ],
   "source": [
    "n_val = len(val_ground_truth)\n",
    "baseline = np.repeat([freq], n_val, axis=0)\n",
    "baseline[:10]"
   ]
  },
  {
   "cell_type": "code",
   "execution_count": 8,
   "id": "07b529d8",
   "metadata": {},
   "outputs": [
    {
     "data": {
      "text/plain": [
       "0.005050505050505051"
      ]
     },
     "execution_count": 8,
     "metadata": {},
     "output_type": "execute_result"
    }
   ],
   "source": [
    "average_precision(baseline, val_ground_truth)"
   ]
  },
  {
   "cell_type": "markdown",
   "id": "b0b81b67",
   "metadata": {},
   "source": [
    "That's our baseline. Let's see if we can improve it with content-based recommendations"
   ]
  },
  {
   "cell_type": "markdown",
   "id": "6a03fbdd",
   "metadata": {},
   "source": [
    "## Content-based recommendations\n",
    "\n",
    "To make content-based recommendations, we need to have content to recommend \n",
    "from. So we'll take the features from the product data frame"
   ]
  },
  {
   "cell_type": "code",
   "execution_count": 9,
   "id": "066f495c",
   "metadata": {},
   "outputs": [],
   "source": [
    "product_columns = ['product_id', 'product_type', 'product_name', 'size', 'colour', 'description']\n",
    "\n",
    "df_train = df_train.merge(df_products[product_columns]) \\\n",
    "    .sort_values(by=['order_id', 'sales_id'])"
   ]
  },
  {
   "cell_type": "markdown",
   "id": "ac68c080",
   "metadata": {},
   "source": [
    "Let's see how many users are in both train & validation set"
   ]
  },
  {
   "cell_type": "code",
   "execution_count": 10,
   "id": "d50f50ec",
   "metadata": {},
   "outputs": [
    {
     "data": {
      "text/plain": [
       "52"
      ]
     },
     "execution_count": 10,
     "metadata": {},
     "output_type": "execute_result"
    }
   ],
   "source": [
    "target_customers = set(df_val.customer_id) & set(df_train.customer_id)\n",
    "len(target_customers)"
   ]
  },
  {
   "cell_type": "markdown",
   "id": "d0b4556d",
   "metadata": {},
   "source": [
    "We will need to make predictions only for them. For the rest\n",
    "we'll make the default recommendation (most frequent items)"
   ]
  },
  {
   "cell_type": "code",
   "execution_count": 11,
   "id": "8793875a",
   "metadata": {},
   "outputs": [],
   "source": [
    "df_train_subset = df_train[df_train.customer_id.isin(target_customers)]"
   ]
  },
  {
   "cell_type": "markdown",
   "id": "fe2b952c",
   "metadata": {},
   "source": [
    "Now let's create vectorizers for turning products (and users) to vectors"
   ]
  },
  {
   "cell_type": "code",
   "execution_count": 12,
   "id": "b487e335",
   "metadata": {},
   "outputs": [],
   "source": [
    "from sklearn.pipeline import make_pipeline\n",
    "from sklearn.compose import ColumnTransformer\n",
    "\n",
    "from sklearn.base import TransformerMixin, BaseEstimator\n",
    "\n",
    "from sklearn.feature_extraction import DictVectorizer\n",
    "from sklearn.feature_extraction.text import TfidfVectorizer\n",
    "from sklearn.feature_extraction.text import CountVectorizer"
   ]
  },
  {
   "cell_type": "code",
   "execution_count": 13,
   "id": "12d1ad64",
   "metadata": {},
   "outputs": [],
   "source": [
    "from sklearn.preprocessing import normalize"
   ]
  },
  {
   "cell_type": "code",
   "execution_count": 14,
   "id": "95fd557a",
   "metadata": {},
   "outputs": [],
   "source": [
    "class ToDictTranformer(TransformerMixin, BaseEstimator):\n",
    "    def __init__(self):\n",
    "        self.columns = None\n",
    "    \n",
    "    def fit(self, df, y=None):\n",
    "        self.columns = df.columns\n",
    "        return self\n",
    "\n",
    "    def transform(self, df):\n",
    "        return df.to_dict(orient='records')\n",
    "\n",
    "    def get_feature_names_out(self, *args, **kwargs):\n",
    "        return self.columns"
   ]
  },
  {
   "cell_type": "code",
   "execution_count": 15,
   "id": "ac178342",
   "metadata": {},
   "outputs": [],
   "source": [
    "ohe_columns = ['product_type', 'product_name', 'size', 'colour']\n",
    "\n",
    "categorical_pipeline = make_pipeline(ToDictTranformer(), DictVectorizer())\n",
    "\n",
    "vectorizer = ColumnTransformer([\n",
    "    ('categorical', categorical_pipeline, ohe_columns),\n",
    "    ('description', TfidfVectorizer(min_df=50), 'description'),\n",
    "])"
   ]
  },
  {
   "cell_type": "code",
   "execution_count": 16,
   "id": "634944e3",
   "metadata": {},
   "outputs": [
    {
     "data": {
      "text/html": [
       "<style>#sk-container-id-1 {color: black;background-color: white;}#sk-container-id-1 pre{padding: 0;}#sk-container-id-1 div.sk-toggleable {background-color: white;}#sk-container-id-1 label.sk-toggleable__label {cursor: pointer;display: block;width: 100%;margin-bottom: 0;padding: 0.3em;box-sizing: border-box;text-align: center;}#sk-container-id-1 label.sk-toggleable__label-arrow:before {content: \"▸\";float: left;margin-right: 0.25em;color: #696969;}#sk-container-id-1 label.sk-toggleable__label-arrow:hover:before {color: black;}#sk-container-id-1 div.sk-estimator:hover label.sk-toggleable__label-arrow:before {color: black;}#sk-container-id-1 div.sk-toggleable__content {max-height: 0;max-width: 0;overflow: hidden;text-align: left;background-color: #f0f8ff;}#sk-container-id-1 div.sk-toggleable__content pre {margin: 0.2em;color: black;border-radius: 0.25em;background-color: #f0f8ff;}#sk-container-id-1 input.sk-toggleable__control:checked~div.sk-toggleable__content {max-height: 200px;max-width: 100%;overflow: auto;}#sk-container-id-1 input.sk-toggleable__control:checked~label.sk-toggleable__label-arrow:before {content: \"▾\";}#sk-container-id-1 div.sk-estimator input.sk-toggleable__control:checked~label.sk-toggleable__label {background-color: #d4ebff;}#sk-container-id-1 div.sk-label input.sk-toggleable__control:checked~label.sk-toggleable__label {background-color: #d4ebff;}#sk-container-id-1 input.sk-hidden--visually {border: 0;clip: rect(1px 1px 1px 1px);clip: rect(1px, 1px, 1px, 1px);height: 1px;margin: -1px;overflow: hidden;padding: 0;position: absolute;width: 1px;}#sk-container-id-1 div.sk-estimator {font-family: monospace;background-color: #f0f8ff;border: 1px dotted black;border-radius: 0.25em;box-sizing: border-box;margin-bottom: 0.5em;}#sk-container-id-1 div.sk-estimator:hover {background-color: #d4ebff;}#sk-container-id-1 div.sk-parallel-item::after {content: \"\";width: 100%;border-bottom: 1px solid gray;flex-grow: 1;}#sk-container-id-1 div.sk-label:hover label.sk-toggleable__label {background-color: #d4ebff;}#sk-container-id-1 div.sk-serial::before {content: \"\";position: absolute;border-left: 1px solid gray;box-sizing: border-box;top: 0;bottom: 0;left: 50%;z-index: 0;}#sk-container-id-1 div.sk-serial {display: flex;flex-direction: column;align-items: center;background-color: white;padding-right: 0.2em;padding-left: 0.2em;position: relative;}#sk-container-id-1 div.sk-item {position: relative;z-index: 1;}#sk-container-id-1 div.sk-parallel {display: flex;align-items: stretch;justify-content: center;background-color: white;position: relative;}#sk-container-id-1 div.sk-item::before, #sk-container-id-1 div.sk-parallel-item::before {content: \"\";position: absolute;border-left: 1px solid gray;box-sizing: border-box;top: 0;bottom: 0;left: 50%;z-index: -1;}#sk-container-id-1 div.sk-parallel-item {display: flex;flex-direction: column;z-index: 1;position: relative;background-color: white;}#sk-container-id-1 div.sk-parallel-item:first-child::after {align-self: flex-end;width: 50%;}#sk-container-id-1 div.sk-parallel-item:last-child::after {align-self: flex-start;width: 50%;}#sk-container-id-1 div.sk-parallel-item:only-child::after {width: 0;}#sk-container-id-1 div.sk-dashed-wrapped {border: 1px dashed gray;margin: 0 0.4em 0.5em 0.4em;box-sizing: border-box;padding-bottom: 0.4em;background-color: white;}#sk-container-id-1 div.sk-label label {font-family: monospace;font-weight: bold;display: inline-block;line-height: 1.2em;}#sk-container-id-1 div.sk-label-container {text-align: center;}#sk-container-id-1 div.sk-container {/* jupyter's `normalize.less` sets `[hidden] { display: none; }` but bootstrap.min.css set `[hidden] { display: none !important; }` so we also need the `!important` here to be able to override the default hidden behavior on the sphinx rendered scikit-learn.org. See: https://github.com/scikit-learn/scikit-learn/issues/21755 */display: inline-block !important;position: relative;}#sk-container-id-1 div.sk-text-repr-fallback {display: none;}</style><div id=\"sk-container-id-1\" class=\"sk-top-container\"><div class=\"sk-text-repr-fallback\"><pre>ColumnTransformer(transformers=[(&#x27;categorical&#x27;,\n",
       "                                 Pipeline(steps=[(&#x27;todicttranformer&#x27;,\n",
       "                                                  ToDictTranformer()),\n",
       "                                                 (&#x27;dictvectorizer&#x27;,\n",
       "                                                  DictVectorizer())]),\n",
       "                                 [&#x27;product_type&#x27;, &#x27;product_name&#x27;, &#x27;size&#x27;,\n",
       "                                  &#x27;colour&#x27;]),\n",
       "                                (&#x27;description&#x27;, TfidfVectorizer(min_df=50),\n",
       "                                 &#x27;description&#x27;)])</pre><b>In a Jupyter environment, please rerun this cell to show the HTML representation or trust the notebook. <br />On GitHub, the HTML representation is unable to render, please try loading this page with nbviewer.org.</b></div><div class=\"sk-container\" hidden><div class=\"sk-item sk-dashed-wrapped\"><div class=\"sk-label-container\"><div class=\"sk-label sk-toggleable\"><input class=\"sk-toggleable__control sk-hidden--visually\" id=\"sk-estimator-id-1\" type=\"checkbox\" ><label for=\"sk-estimator-id-1\" class=\"sk-toggleable__label sk-toggleable__label-arrow\">ColumnTransformer</label><div class=\"sk-toggleable__content\"><pre>ColumnTransformer(transformers=[(&#x27;categorical&#x27;,\n",
       "                                 Pipeline(steps=[(&#x27;todicttranformer&#x27;,\n",
       "                                                  ToDictTranformer()),\n",
       "                                                 (&#x27;dictvectorizer&#x27;,\n",
       "                                                  DictVectorizer())]),\n",
       "                                 [&#x27;product_type&#x27;, &#x27;product_name&#x27;, &#x27;size&#x27;,\n",
       "                                  &#x27;colour&#x27;]),\n",
       "                                (&#x27;description&#x27;, TfidfVectorizer(min_df=50),\n",
       "                                 &#x27;description&#x27;)])</pre></div></div></div><div class=\"sk-parallel\"><div class=\"sk-parallel-item\"><div class=\"sk-item\"><div class=\"sk-label-container\"><div class=\"sk-label sk-toggleable\"><input class=\"sk-toggleable__control sk-hidden--visually\" id=\"sk-estimator-id-2\" type=\"checkbox\" ><label for=\"sk-estimator-id-2\" class=\"sk-toggleable__label sk-toggleable__label-arrow\">categorical</label><div class=\"sk-toggleable__content\"><pre>[&#x27;product_type&#x27;, &#x27;product_name&#x27;, &#x27;size&#x27;, &#x27;colour&#x27;]</pre></div></div></div><div class=\"sk-serial\"><div class=\"sk-item\"><div class=\"sk-serial\"><div class=\"sk-item\"><div class=\"sk-estimator sk-toggleable\"><input class=\"sk-toggleable__control sk-hidden--visually\" id=\"sk-estimator-id-3\" type=\"checkbox\" ><label for=\"sk-estimator-id-3\" class=\"sk-toggleable__label sk-toggleable__label-arrow\">ToDictTranformer</label><div class=\"sk-toggleable__content\"><pre>ToDictTranformer()</pre></div></div></div><div class=\"sk-item\"><div class=\"sk-estimator sk-toggleable\"><input class=\"sk-toggleable__control sk-hidden--visually\" id=\"sk-estimator-id-4\" type=\"checkbox\" ><label for=\"sk-estimator-id-4\" class=\"sk-toggleable__label sk-toggleable__label-arrow\">DictVectorizer</label><div class=\"sk-toggleable__content\"><pre>DictVectorizer()</pre></div></div></div></div></div></div></div></div><div class=\"sk-parallel-item\"><div class=\"sk-item\"><div class=\"sk-label-container\"><div class=\"sk-label sk-toggleable\"><input class=\"sk-toggleable__control sk-hidden--visually\" id=\"sk-estimator-id-5\" type=\"checkbox\" ><label for=\"sk-estimator-id-5\" class=\"sk-toggleable__label sk-toggleable__label-arrow\">description</label><div class=\"sk-toggleable__content\"><pre>description</pre></div></div></div><div class=\"sk-serial\"><div class=\"sk-item\"><div class=\"sk-estimator sk-toggleable\"><input class=\"sk-toggleable__control sk-hidden--visually\" id=\"sk-estimator-id-6\" type=\"checkbox\" ><label for=\"sk-estimator-id-6\" class=\"sk-toggleable__label sk-toggleable__label-arrow\">TfidfVectorizer</label><div class=\"sk-toggleable__content\"><pre>TfidfVectorizer(min_df=50)</pre></div></div></div></div></div></div></div></div></div></div>"
      ],
      "text/plain": [
       "ColumnTransformer(transformers=[('categorical',\n",
       "                                 Pipeline(steps=[('todicttranformer',\n",
       "                                                  ToDictTranformer()),\n",
       "                                                 ('dictvectorizer',\n",
       "                                                  DictVectorizer())]),\n",
       "                                 ['product_type', 'product_name', 'size',\n",
       "                                  'colour']),\n",
       "                                ('description', TfidfVectorizer(min_df=50),\n",
       "                                 'description')])"
      ]
     },
     "execution_count": 16,
     "metadata": {},
     "output_type": "execute_result"
    }
   ],
   "source": [
    "vectorizer.fit(df_train)"
   ]
  },
  {
   "cell_type": "markdown",
   "id": "13d1a0d0",
   "metadata": {},
   "source": [
    "First, we'll represent each product as a unit vector"
   ]
  },
  {
   "cell_type": "code",
   "execution_count": 18,
   "id": "506ecf04",
   "metadata": {},
   "outputs": [],
   "source": [
    "X_products = vectorizer.transform(df_products)\n",
    "X_products = normalize(X_products)"
   ]
  },
  {
   "cell_type": "markdown",
   "id": "42b2fab8",
   "metadata": {},
   "source": [
    "Now fo reach user we will:\n",
    "\n",
    "- Represent each users and average vector of the products they ordered\n",
    "- Next, compute the similarity between this user vector and each product vector\n",
    "- Finally, get top 10 most similar products\n",
    "\n",
    "We will use that as the recommendation for each user"
   ]
  },
  {
   "cell_type": "code",
   "execution_count": 19,
   "id": "03bdbaa3",
   "metadata": {},
   "outputs": [],
   "source": [
    "user_recommendations = {}\n",
    "\n",
    "for user_id, df in df_train_subset.groupby('customer_id'):\n",
    "    # represent each users as a average vector of all their\n",
    "    # purchases\n",
    "\n",
    "    X_user = vectorizer.transform(df)\n",
    "    \n",
    "    X_user = X_user.sum(axis=0)\n",
    "    X_user = np.asarray(X_user)\n",
    "    X_user = normalize(X_user).reshape(-1)\n",
    "    \n",
    "    # compute the similarities between the products and the user\n",
    "    \n",
    "    scores = X_products.dot(X_user)\n",
    "\n",
    "    argidx = scores.argpartition(np.arange(10))[:10]\n",
    "\n",
    "    user_recommendations[user_id] = argidx"
   ]
  },
  {
   "cell_type": "markdown",
   "id": "55c9a68b",
   "metadata": {},
   "source": [
    "Now we'll create a matrix with predictions"
   ]
  },
  {
   "cell_type": "code",
   "execution_count": 20,
   "id": "fd76aeb1",
   "metadata": {},
   "outputs": [],
   "source": [
    "n_val = len(val_ground_truth)\n",
    "c1_predictions = np.repeat([freq], n_val, axis=0)"
   ]
  },
  {
   "cell_type": "code",
   "execution_count": 21,
   "id": "386689ee",
   "metadata": {},
   "outputs": [],
   "source": [
    "for i, order_id in enumerate(val_ground_truth.index):\n",
    "    user_id = df_orders.loc[order_id].customer_id\n",
    "    if user_id in user_recommendations:\n",
    "        c1_predictions[i] = user_recommendations[user_id]"
   ]
  },
  {
   "cell_type": "code",
   "execution_count": 22,
   "id": "cf7a38b0",
   "metadata": {},
   "outputs": [
    {
     "data": {
      "text/plain": [
       "0.00404040404040404"
      ]
     },
     "execution_count": 22,
     "metadata": {},
     "output_type": "execute_result"
    }
   ],
   "source": [
    "average_precision(c1_predictions, val_ground_truth)"
   ]
  },
  {
   "cell_type": "markdown",
   "id": "690e88f0",
   "metadata": {},
   "source": [
    "Oops - it didn't work, the result is worse than the baseline"
   ]
  },
  {
   "cell_type": "code",
   "execution_count": null,
   "id": "b40d0644",
   "metadata": {},
   "outputs": [],
   "source": []
  },
  {
   "cell_type": "code",
   "execution_count": null,
   "id": "ea386013",
   "metadata": {},
   "outputs": [],
   "source": []
  },
  {
   "cell_type": "code",
   "execution_count": null,
   "id": "4aa66e1f",
   "metadata": {},
   "outputs": [],
   "source": []
  }
 ],
 "metadata": {
  "kernelspec": {
   "display_name": "Python 3 (ipykernel)",
   "language": "python",
   "name": "python3"
  },
  "language_info": {
   "codemirror_mode": {
    "name": "ipython",
    "version": 3
   },
   "file_extension": ".py",
   "mimetype": "text/x-python",
   "name": "python",
   "nbconvert_exporter": "python",
   "pygments_lexer": "ipython3",
   "version": "3.9.7"
  }
 },
 "nbformat": 4,
 "nbformat_minor": 5
}
