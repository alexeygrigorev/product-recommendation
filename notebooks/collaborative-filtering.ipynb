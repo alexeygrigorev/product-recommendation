{
 "cells": [
  {
   "cell_type": "code",
   "execution_count": 1,
   "id": "6144c75d",
   "metadata": {},
   "outputs": [],
   "source": [
    "from pathlib import Path\n",
    "\n",
    "import pandas as pd\n",
    "import numpy as np"
   ]
  },
  {
   "cell_type": "markdown",
   "id": "d33880d8",
   "metadata": {},
   "source": [
    "## Read & prepare data"
   ]
  },
  {
   "cell_type": "code",
   "execution_count": 2,
   "id": "54a18f24",
   "metadata": {},
   "outputs": [],
   "source": [
    "data = Path('../data')\n",
    "\n",
    "df_sales = pd.read_csv(data / 'sales.csv')\n",
    "df_orders = pd.read_csv(data / 'orders.csv')\n",
    "df_customers = pd.read_csv(data / 'customers.csv')\n",
    "\n",
    "df_products = pd.read_csv(data / 'products.csv')\n",
    "df_products.columns = df_products.columns.str.lower()\n",
    "\n",
    "df_sales = df_sales.merge(df_orders[['order_id', 'customer_id']])"
   ]
  },
  {
   "cell_type": "code",
   "execution_count": 3,
   "id": "40336bed",
   "metadata": {},
   "outputs": [],
   "source": [
    "df_orders = df_orders.set_index('order_id')"
   ]
  },
  {
   "cell_type": "markdown",
   "id": "a17d60c9",
   "metadata": {},
   "source": [
    "\n",
    "## Validation\n",
    "\n",
    "Let's set aside some data for testing "
   ]
  },
  {
   "cell_type": "code",
   "execution_count": 4,
   "id": "bac4d73f",
   "metadata": {},
   "outputs": [],
   "source": [
    "df_train = df_sales[df_sales.order_id <= 900]\n",
    "df_val = df_sales[df_sales.order_id > 900]\n",
    "\n",
    "val_ground_truth = df_val.groupby('order_id').product_id.apply(set)"
   ]
  },
  {
   "cell_type": "markdown",
   "id": "5c3361bc",
   "metadata": {},
   "source": [
    "We need to have a good baseline. Let's use the most frequest items\n",
    "\n",
    "We will have the following recommendation scenario: we suggest 10 products and see how many\n",
    "of them the user will click on.\n",
    "\n",
    "We'll use a simple evaluation technique: we'll calculate how many suggested items the user actually bought. \n",
    "\n",
    "It's called \"Average presicion\" ([link](https://sdsawtelle.github.io/blog/output/mean-average-precision-MAP-for-recommender-systems.html))"
   ]
  },
  {
   "cell_type": "code",
   "execution_count": 5,
   "id": "4f3b4661",
   "metadata": {},
   "outputs": [
    {
     "data": {
      "text/plain": [
       "array([ 740,  579,   78,  843, 1188,  968, 1177, 1038,  182,  757],\n",
       "      dtype=int64)"
      ]
     },
     "execution_count": 5,
     "metadata": {},
     "output_type": "execute_result"
    }
   ],
   "source": [
    "n_rec = 10\n",
    "freq = df_train.product_id.value_counts().iloc[:n_rec].index.values\n",
    "freq"
   ]
  },
  {
   "cell_type": "code",
   "execution_count": 6,
   "id": "566b435c",
   "metadata": {},
   "outputs": [],
   "source": [
    "def average_precision(recommendations, ground_truth):\n",
    "    res = 0\n",
    "\n",
    "    n_rows, n_rec = recommendations.shape\n",
    "    assert n_rows == len(ground_truth)\n",
    "\n",
    "    for i, gt in enumerate(ground_truth):\n",
    "        cnt = 0\n",
    "        for item_id in recommendations[i]:\n",
    "            if item_id in gt:\n",
    "                cnt = cnt + 1\n",
    "        precision = cnt / n_rec\n",
    "        res = res + precision\n",
    "\n",
    "    res = res / n_val\n",
    "    return res"
   ]
  },
  {
   "cell_type": "code",
   "execution_count": 7,
   "id": "46e62266",
   "metadata": {},
   "outputs": [
    {
     "data": {
      "text/plain": [
       "array([[ 740,  579,   78,  843, 1188,  968, 1177, 1038,  182,  757],\n",
       "       [ 740,  579,   78,  843, 1188,  968, 1177, 1038,  182,  757],\n",
       "       [ 740,  579,   78,  843, 1188,  968, 1177, 1038,  182,  757],\n",
       "       [ 740,  579,   78,  843, 1188,  968, 1177, 1038,  182,  757],\n",
       "       [ 740,  579,   78,  843, 1188,  968, 1177, 1038,  182,  757],\n",
       "       [ 740,  579,   78,  843, 1188,  968, 1177, 1038,  182,  757],\n",
       "       [ 740,  579,   78,  843, 1188,  968, 1177, 1038,  182,  757],\n",
       "       [ 740,  579,   78,  843, 1188,  968, 1177, 1038,  182,  757],\n",
       "       [ 740,  579,   78,  843, 1188,  968, 1177, 1038,  182,  757],\n",
       "       [ 740,  579,   78,  843, 1188,  968, 1177, 1038,  182,  757]],\n",
       "      dtype=int64)"
      ]
     },
     "execution_count": 7,
     "metadata": {},
     "output_type": "execute_result"
    }
   ],
   "source": [
    "n_val = len(val_ground_truth)\n",
    "baseline = np.repeat([freq], n_val, axis=0)\n",
    "baseline[:10]"
   ]
  },
  {
   "cell_type": "code",
   "execution_count": 8,
   "id": "07b529d8",
   "metadata": {},
   "outputs": [
    {
     "data": {
      "text/plain": [
       "0.005050505050505051"
      ]
     },
     "execution_count": 8,
     "metadata": {},
     "output_type": "execute_result"
    }
   ],
   "source": [
    "average_precision(baseline, val_ground_truth)"
   ]
  },
  {
   "cell_type": "markdown",
   "id": "b0b81b67",
   "metadata": {},
   "source": [
    "That's our baseline. Let's see if we can improve it with content-based recommendations"
   ]
  },
  {
   "cell_type": "markdown",
   "id": "6a03fbdd",
   "metadata": {},
   "source": [
    "## Collaborative filtering\n"
   ]
  },
  {
   "cell_type": "markdown",
   "id": "681b633b",
   "metadata": {},
   "source": [
    "Let's build the interaction matrix X. Users will be the rows and items will be the colums"
   ]
  },
  {
   "cell_type": "code",
   "execution_count": 144,
   "id": "27f3c951",
   "metadata": {},
   "outputs": [],
   "source": [
    "from scipy.sparse import csr_matrix"
   ]
  },
  {
   "cell_type": "code",
   "execution_count": 145,
   "id": "e97851bb",
   "metadata": {},
   "outputs": [],
   "source": [
    "rows = df_train.customer_id.values\n",
    "columns = df_train.product_id.values\n",
    "data = np.ones(len(df_train))"
   ]
  },
  {
   "cell_type": "code",
   "execution_count": 146,
   "id": "0331f54d",
   "metadata": {},
   "outputs": [
    {
     "data": {
      "text/plain": [
       "<1001x1260 sparse matrix of type '<class 'numpy.float64'>'\n",
       "\twith 4504 stored elements in Compressed Sparse Row format>"
      ]
     },
     "execution_count": 146,
     "metadata": {},
     "output_type": "execute_result"
    }
   ],
   "source": [
    "n_rows = rows.max() + 1\n",
    "n_cols = columns.max() + 1\n",
    "\n",
    "X = csr_matrix((data, (rows, columns)), shape=(n_rows, n_cols))\n",
    "X"
   ]
  },
  {
   "cell_type": "code",
   "execution_count": 147,
   "id": "b487e335",
   "metadata": {},
   "outputs": [],
   "source": [
    "from sklearn.decomposition import randomized_svd\n",
    "from sklearn.preprocessing import normalize"
   ]
  },
  {
   "cell_type": "code",
   "execution_count": 148,
   "id": "ce9166ae",
   "metadata": {},
   "outputs": [],
   "source": [
    "U, S, VT = randomized_svd(X, n_components=16, random_state=1)"
   ]
  },
  {
   "cell_type": "code",
   "execution_count": 149,
   "id": "7104d6c3",
   "metadata": {},
   "outputs": [],
   "source": [
    "V = VT.T"
   ]
  },
  {
   "cell_type": "code",
   "execution_count": 150,
   "id": "b4aa10e3",
   "metadata": {},
   "outputs": [],
   "source": [
    "U = normalize(U)\n",
    "V = normalize(V)"
   ]
  },
  {
   "cell_type": "code",
   "execution_count": 151,
   "id": "74891d09",
   "metadata": {},
   "outputs": [
    {
     "data": {
      "text/plain": [
       "0.13674924590068577"
      ]
     },
     "execution_count": 151,
     "metadata": {},
     "output_type": "execute_result"
    }
   ],
   "source": [
    "U[1].dot(V[179])"
   ]
  },
  {
   "cell_type": "markdown",
   "id": "e0968e10",
   "metadata": {},
   "source": [
    "Now we need to find customers who we have in both training & validation"
   ]
  },
  {
   "cell_type": "code",
   "execution_count": 152,
   "id": "865f3512",
   "metadata": {},
   "outputs": [],
   "source": [
    "target_customers = set(df_val.customer_id) & set(df_train.customer_id)\n",
    "df_train_subset = df_train[df_train.customer_id.isin(target_customers)]"
   ]
  },
  {
   "cell_type": "code",
   "execution_count": 153,
   "id": "03bdbaa3",
   "metadata": {},
   "outputs": [],
   "source": [
    "user_recommendations = {}\n",
    "\n",
    "for user_id, df in df_train_subset.groupby('customer_id'):\n",
    "    # represent each users as a average vector of all their\n",
    "    # purchases\n",
    "\n",
    "    X_user = U[user_id]\n",
    "\n",
    "    # compute the similarities between the products and the user\n",
    "    scores = V.dot(X_user)\n",
    "\n",
    "#     argidx = scores.argpartition(np.arange(10))[:10]\n",
    "    argidx = (-scores).argsort()[:10]\n",
    "\n",
    "    user_recommendations[user_id] = argidx"
   ]
  },
  {
   "cell_type": "markdown",
   "id": "55c9a68b",
   "metadata": {},
   "source": [
    "Now we'll create a matrix with predictions"
   ]
  },
  {
   "cell_type": "code",
   "execution_count": 154,
   "id": "fd76aeb1",
   "metadata": {},
   "outputs": [],
   "source": [
    "n_val = len(val_ground_truth)\n",
    "cf_predictions = np.repeat([freq], n_val, axis=0)"
   ]
  },
  {
   "cell_type": "code",
   "execution_count": 155,
   "id": "386689ee",
   "metadata": {},
   "outputs": [],
   "source": [
    "for i, order_id in enumerate(val_ground_truth.index):\n",
    "    user_id = df_orders.loc[order_id].customer_id\n",
    "    if user_id in user_recommendations:\n",
    "        cf_predictions[i] = user_recommendations[user_id]"
   ]
  },
  {
   "cell_type": "code",
   "execution_count": 156,
   "id": "cf7a38b0",
   "metadata": {},
   "outputs": [
    {
     "data": {
      "text/plain": [
       "0.005050505050505051"
      ]
     },
     "execution_count": 156,
     "metadata": {},
     "output_type": "execute_result"
    }
   ],
   "source": [
    "average_precision(cf_predictions, val_ground_truth)"
   ]
  },
  {
   "cell_type": "markdown",
   "id": "7d337ca8",
   "metadata": {},
   "source": [
    "That didn't work too "
   ]
  },
  {
   "cell_type": "code",
   "execution_count": null,
   "id": "b4ee05a4",
   "metadata": {},
   "outputs": [],
   "source": []
  }
 ],
 "metadata": {
  "kernelspec": {
   "display_name": "Python 3 (ipykernel)",
   "language": "python",
   "name": "python3"
  },
  "language_info": {
   "codemirror_mode": {
    "name": "ipython",
    "version": 3
   },
   "file_extension": ".py",
   "mimetype": "text/x-python",
   "name": "python",
   "nbconvert_exporter": "python",
   "pygments_lexer": "ipython3",
   "version": "3.9.7"
  }
 },
 "nbformat": 4,
 "nbformat_minor": 5
}
